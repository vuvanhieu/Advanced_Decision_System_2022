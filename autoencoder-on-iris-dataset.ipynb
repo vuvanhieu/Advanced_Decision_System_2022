{
 "cells": [
  {
   "cell_type": "markdown",
   "metadata": {
    "_uuid": "433d4d6cbc0b69bc58812e3f48fc485e85dac7e9"
   },
   "source": [
    "# References \n",
    "* [Building Autoencoders in Keras](https://blog.keras.io/building-autoencoders-in-keras.html)\n",
    "* [Matplotlib Gallery](https://matplotlib.org/gallery/index.html)"
   ]
  },
  {
   "cell_type": "markdown",
   "metadata": {
    "_uuid": "335140ee2e31402a1cecd0466b7482533650ffea"
   },
   "source": [
    "# Content\n",
    "* Compress the 4 features of Iris Dataset to 2 features using Autoencoder\n",
    "* Visualize training using TensorBoard\n",
    "* Plot the obtained 2 features and assign different colors to different species"
   ]
  },
  {
   "cell_type": "code",
   "execution_count": 1,
   "metadata": {
    "_uuid": "e454fe84a2fe6707fdf1c0ad6a1fff778b6f8332"
   },
   "outputs": [],
   "source": [
    "import pandas as pd\n",
    "import numpy as np\n",
    "from sklearn.model_selection import train_test_split\n",
    "import matplotlib.pyplot as plt\n",
    "%matplotlib inline"
   ]
  },
  {
   "cell_type": "markdown",
   "metadata": {
    "_uuid": "7b279869ee8f62abf45302ee5bc70843100ecd12"
   },
   "source": [
    "## Importing Data"
   ]
  },
  {
   "cell_type": "code",
   "execution_count": 2,
   "metadata": {
    "_uuid": "3dccc906b3643ffbbd169679c9601ab673c5ba33"
   },
   "outputs": [],
   "source": [
    "data = pd.read_csv(\"Iris.csv\")\n",
    "x_train, x_test, y_train, y_test = train_test_split(data[['SepalLengthCm', 'SepalWidthCm',\n",
    "                                                          'PetalLengthCm', 'PetalWidthCm']],\n",
    "                                                    data['Species'],test_size=0.1, random_state=1)"
   ]
  },
  {
   "cell_type": "markdown",
   "metadata": {
    "_uuid": "81611a8e12dae66ddecdd76e2501a4a0fe4b0f87"
   },
   "source": [
    "## Launching TensorBoard"
   ]
  },
  {
   "cell_type": "code",
   "execution_count": 3,
   "metadata": {
    "_uuid": "164cf2d7edb504f490c0076318edab661edd2070"
   },
   "outputs": [],
   "source": [
    "# !wget https://bin.equinox.io/c/4VmDzA7iaHb/ngrok-stable-linux-amd64.zip\n",
    "# !unzip ngrok-stable-linux-amd64.zip\n",
    "# LOG_DIR = '/tmp/autoencoder' # Here you have to put your log directory\n",
    "# get_ipython().system_raw(\n",
    "#     'tensorboard --logdir {} --host 0.0.0.0 --port 6006 &'\n",
    "#     .format(LOG_DIR)\n",
    "# )\n",
    "# get_ipython().system_raw('./ngrok http 6006 &')\n",
    "# ! curl -s http://localhost:4040/api/tunnels | python3 -c \\\n",
    "#     \"import sys, json; print(json.load(sys.stdin)['tunnels'][0]['public_url'])\""
   ]
  },
  {
   "cell_type": "markdown",
   "metadata": {
    "_uuid": "259eb70c735aa726dc95259456eec00e53b1b189"
   },
   "source": [
    "## Linear Encoder and Linear Decoder"
   ]
  },
  {
   "cell_type": "code",
   "execution_count": 4,
   "metadata": {
    "_cell_guid": "79c7e3d0-c299-4dcb-8224-4455121ee9b0",
    "_uuid": "d629ff2d2480ee46fbb7e2d37f6b5fab8052498a"
   },
   "outputs": [
    {
     "name": "stderr",
     "output_type": "stream",
     "text": [
      "Using TensorFlow backend.\n",
      "C:\\anaconda3\\lib\\site-packages\\tensorflow\\python\\framework\\dtypes.py:516: FutureWarning: Passing (type, 1) or '1type' as a synonym of type is deprecated; in a future version of numpy, it will be understood as (type, (1,)) / '(1,)type'.\n",
      "  _np_qint8 = np.dtype([(\"qint8\", np.int8, 1)])\n",
      "C:\\anaconda3\\lib\\site-packages\\tensorflow\\python\\framework\\dtypes.py:517: FutureWarning: Passing (type, 1) or '1type' as a synonym of type is deprecated; in a future version of numpy, it will be understood as (type, (1,)) / '(1,)type'.\n",
      "  _np_quint8 = np.dtype([(\"quint8\", np.uint8, 1)])\n",
      "C:\\anaconda3\\lib\\site-packages\\tensorflow\\python\\framework\\dtypes.py:518: FutureWarning: Passing (type, 1) or '1type' as a synonym of type is deprecated; in a future version of numpy, it will be understood as (type, (1,)) / '(1,)type'.\n",
      "  _np_qint16 = np.dtype([(\"qint16\", np.int16, 1)])\n",
      "C:\\anaconda3\\lib\\site-packages\\tensorflow\\python\\framework\\dtypes.py:519: FutureWarning: Passing (type, 1) or '1type' as a synonym of type is deprecated; in a future version of numpy, it will be understood as (type, (1,)) / '(1,)type'.\n",
      "  _np_quint16 = np.dtype([(\"quint16\", np.uint16, 1)])\n",
      "C:\\anaconda3\\lib\\site-packages\\tensorflow\\python\\framework\\dtypes.py:520: FutureWarning: Passing (type, 1) or '1type' as a synonym of type is deprecated; in a future version of numpy, it will be understood as (type, (1,)) / '(1,)type'.\n",
      "  _np_qint32 = np.dtype([(\"qint32\", np.int32, 1)])\n",
      "C:\\anaconda3\\lib\\site-packages\\tensorflow\\python\\framework\\dtypes.py:525: FutureWarning: Passing (type, 1) or '1type' as a synonym of type is deprecated; in a future version of numpy, it will be understood as (type, (1,)) / '(1,)type'.\n",
      "  np_resource = np.dtype([(\"resource\", np.ubyte, 1)])\n",
      "C:\\anaconda3\\lib\\site-packages\\tensorboard\\compat\\tensorflow_stub\\dtypes.py:541: FutureWarning: Passing (type, 1) or '1type' as a synonym of type is deprecated; in a future version of numpy, it will be understood as (type, (1,)) / '(1,)type'.\n",
      "  _np_qint8 = np.dtype([(\"qint8\", np.int8, 1)])\n",
      "C:\\anaconda3\\lib\\site-packages\\tensorboard\\compat\\tensorflow_stub\\dtypes.py:542: FutureWarning: Passing (type, 1) or '1type' as a synonym of type is deprecated; in a future version of numpy, it will be understood as (type, (1,)) / '(1,)type'.\n",
      "  _np_quint8 = np.dtype([(\"quint8\", np.uint8, 1)])\n",
      "C:\\anaconda3\\lib\\site-packages\\tensorboard\\compat\\tensorflow_stub\\dtypes.py:543: FutureWarning: Passing (type, 1) or '1type' as a synonym of type is deprecated; in a future version of numpy, it will be understood as (type, (1,)) / '(1,)type'.\n",
      "  _np_qint16 = np.dtype([(\"qint16\", np.int16, 1)])\n",
      "C:\\anaconda3\\lib\\site-packages\\tensorboard\\compat\\tensorflow_stub\\dtypes.py:544: FutureWarning: Passing (type, 1) or '1type' as a synonym of type is deprecated; in a future version of numpy, it will be understood as (type, (1,)) / '(1,)type'.\n",
      "  _np_quint16 = np.dtype([(\"quint16\", np.uint16, 1)])\n",
      "C:\\anaconda3\\lib\\site-packages\\tensorboard\\compat\\tensorflow_stub\\dtypes.py:545: FutureWarning: Passing (type, 1) or '1type' as a synonym of type is deprecated; in a future version of numpy, it will be understood as (type, (1,)) / '(1,)type'.\n",
      "  _np_qint32 = np.dtype([(\"qint32\", np.int32, 1)])\n",
      "C:\\anaconda3\\lib\\site-packages\\tensorboard\\compat\\tensorflow_stub\\dtypes.py:550: FutureWarning: Passing (type, 1) or '1type' as a synonym of type is deprecated; in a future version of numpy, it will be understood as (type, (1,)) / '(1,)type'.\n",
      "  np_resource = np.dtype([(\"resource\", np.ubyte, 1)])\n"
     ]
    },
    {
     "name": "stdout",
     "output_type": "stream",
     "text": [
      "WARNING:tensorflow:From C:\\anaconda3\\lib\\site-packages\\keras\\backend\\tensorflow_backend.py:422: The name tf.global_variables is deprecated. Please use tf.compat.v1.global_variables instead.\n",
      "\n",
      "Train on 135 samples, validate on 15 samples\n",
      "WARNING:tensorflow:From C:\\anaconda3\\lib\\site-packages\\keras\\callbacks\\tensorboard_v1.py:200: The name tf.summary.merge_all is deprecated. Please use tf.compat.v1.summary.merge_all instead.\n",
      "\n",
      "WARNING:tensorflow:From C:\\anaconda3\\lib\\site-packages\\keras\\callbacks\\tensorboard_v1.py:203: The name tf.summary.FileWriter is deprecated. Please use tf.compat.v1.summary.FileWriter instead.\n",
      "\n",
      "Epoch 1/50\n",
      "135/135 [==============================] - 0s 644us/step - loss: 20.0125 - val_loss: 9.5409\n",
      "WARNING:tensorflow:From C:\\anaconda3\\lib\\site-packages\\keras\\callbacks\\tensorboard_v1.py:343: The name tf.Summary is deprecated. Please use tf.compat.v1.Summary instead.\n",
      "\n",
      "Epoch 2/50\n",
      "135/135 [==============================] - 0s 15us/step - loss: 8.8774 - val_loss: 6.7076\n",
      "Epoch 3/50\n",
      "135/135 [==============================] - 0s 15us/step - loss: 6.2094 - val_loss: 5.0166\n",
      "Epoch 4/50\n",
      "135/135 [==============================] - 0s 15us/step - loss: 4.6281 - val_loss: 3.8556\n",
      "Epoch 5/50\n",
      "135/135 [==============================] - 0s 22us/step - loss: 3.5480 - val_loss: 3.0141\n",
      "Epoch 6/50\n",
      "135/135 [==============================] - 0s 15us/step - loss: 2.7687 - val_loss: 2.3910\n",
      "Epoch 7/50\n",
      "135/135 [==============================] - 0s 15us/step - loss: 2.1942 - val_loss: 1.9271\n",
      "Epoch 8/50\n",
      "135/135 [==============================] - 0s 15us/step - loss: 1.7687 - val_loss: 1.5822\n",
      "Epoch 9/50\n",
      "135/135 [==============================] - 0s 22us/step - loss: 1.4541 - val_loss: 1.3268\n",
      "Epoch 10/50\n",
      "135/135 [==============================] - 0s 15us/step - loss: 1.2224 - val_loss: 1.1382\n",
      "Epoch 11/50\n",
      "135/135 [==============================] - 0s 15us/step - loss: 1.0525 - val_loss: 0.9991\n",
      "Epoch 12/50\n",
      "135/135 [==============================] - 0s 30us/step - loss: 0.9281 - val_loss: 0.8966\n",
      "Epoch 13/50\n",
      "135/135 [==============================] - 0s 30us/step - loss: 0.8370 - val_loss: 0.8208\n",
      "Epoch 14/50\n",
      "135/135 [==============================] - 0s 22us/step - loss: 0.7702 - val_loss: 0.7645\n",
      "Epoch 15/50\n",
      "135/135 [==============================] - 0s 22us/step - loss: 0.7211 - val_loss: 0.7224\n",
      "Epoch 16/50\n",
      "135/135 [==============================] - 0s 30us/step - loss: 0.6846 - val_loss: 0.6905\n",
      "Epoch 17/50\n",
      "135/135 [==============================] - 0s 30us/step - loss: 0.6572 - val_loss: 0.6662\n",
      "Epoch 18/50\n",
      "135/135 [==============================] - 0s 22us/step - loss: 0.6365 - val_loss: 0.6472\n",
      "Epoch 19/50\n",
      "135/135 [==============================] - 0s 22us/step - loss: 0.6204 - val_loss: 0.6323\n",
      "Epoch 20/50\n",
      "135/135 [==============================] - 0s 22us/step - loss: 0.6078 - val_loss: 0.6202\n",
      "Epoch 21/50\n",
      "135/135 [==============================] - 0s 30us/step - loss: 0.5975 - val_loss: 0.6102\n",
      "Epoch 22/50\n",
      "135/135 [==============================] - 0s 22us/step - loss: 0.5891 - val_loss: 0.6017\n",
      "Epoch 23/50\n",
      "135/135 [==============================] - 0s 15us/step - loss: 0.5819 - val_loss: 0.5944\n",
      "Epoch 24/50\n",
      "135/135 [==============================] - 0s 15us/step - loss: 0.5757 - val_loss: 0.5880\n",
      "Epoch 25/50\n",
      "135/135 [==============================] - 0s 30us/step - loss: 0.5701 - val_loss: 0.5822\n",
      "Epoch 26/50\n",
      "135/135 [==============================] - 0s 14us/step - loss: 0.5650 - val_loss: 0.5770\n",
      "Epoch 27/50\n",
      "135/135 [==============================] - 0s 15us/step - loss: 0.5603 - val_loss: 0.5721\n",
      "Epoch 28/50\n",
      "135/135 [==============================] - 0s 22us/step - loss: 0.5559 - val_loss: 0.5675\n",
      "Epoch 29/50\n",
      "135/135 [==============================] - 0s 22us/step - loss: 0.5517 - val_loss: 0.5631\n",
      "Epoch 30/50\n",
      "135/135 [==============================] - 0s 22us/step - loss: 0.5477 - val_loss: 0.5589\n",
      "Epoch 31/50\n",
      "135/135 [==============================] - 0s 22us/step - loss: 0.5437 - val_loss: 0.5549\n",
      "Epoch 32/50\n",
      "135/135 [==============================] - 0s 7us/step - loss: 0.5399 - val_loss: 0.5510\n",
      "Epoch 33/50\n",
      "135/135 [==============================] - 0s 7us/step - loss: 0.5362 - val_loss: 0.5472\n",
      "Epoch 34/50\n",
      "135/135 [==============================] - 0s 15us/step - loss: 0.5326 - val_loss: 0.5435\n",
      "Epoch 35/50\n",
      "135/135 [==============================] - 0s 15us/step - loss: 0.5290 - val_loss: 0.5399\n",
      "Epoch 36/50\n",
      "135/135 [==============================] - 0s 15us/step - loss: 0.5255 - val_loss: 0.5364\n",
      "Epoch 37/50\n",
      "135/135 [==============================] - 0s 15us/step - loss: 0.5220 - val_loss: 0.5329\n",
      "Epoch 38/50\n",
      "135/135 [==============================] - 0s 15us/step - loss: 0.5186 - val_loss: 0.5295\n",
      "Epoch 39/50\n",
      "135/135 [==============================] - 0s 15us/step - loss: 0.5152 - val_loss: 0.5261\n",
      "Epoch 40/50\n",
      "135/135 [==============================] - 0s 15us/step - loss: 0.5119 - val_loss: 0.5228\n",
      "Epoch 41/50\n",
      "135/135 [==============================] - 0s 15us/step - loss: 0.5086 - val_loss: 0.5196\n",
      "Epoch 42/50\n",
      "135/135 [==============================] - 0s 15us/step - loss: 0.5054 - val_loss: 0.5163\n",
      "Epoch 43/50\n",
      "135/135 [==============================] - 0s 7us/step - loss: 0.5021 - val_loss: 0.5132\n",
      "Epoch 44/50\n",
      "135/135 [==============================] - 0s 15us/step - loss: 0.4989 - val_loss: 0.5100\n",
      "Epoch 45/50\n",
      "135/135 [==============================] - 0s 15us/step - loss: 0.4958 - val_loss: 0.5069\n",
      "Epoch 46/50\n",
      "135/135 [==============================] - 0s 15us/step - loss: 0.4926 - val_loss: 0.5038\n",
      "Epoch 47/50\n",
      "135/135 [==============================] - 0s 15us/step - loss: 0.4895 - val_loss: 0.5008\n",
      "Epoch 48/50\n",
      "135/135 [==============================] - 0s 7us/step - loss: 0.4865 - val_loss: 0.4977\n",
      "Epoch 49/50\n",
      "135/135 [==============================] - 0s 15us/step - loss: 0.4834 - val_loss: 0.4947\n",
      "Epoch 50/50\n",
      "135/135 [==============================] - 0s 7us/step - loss: 0.4804 - val_loss: 0.4918\n",
      "Original Datapoints :\n",
      "     SepalLengthCm  SepalWidthCm  PetalLengthCm  PetalWidthCm\n",
      "14             5.8           4.0            1.2           0.2\n",
      "98             5.1           2.5            3.0           1.1\n",
      "75             6.6           3.0            4.4           1.4\n",
      "16             5.4           3.9            1.3           0.4\n",
      "131            7.9           3.8            6.4           2.0\n",
      "56             6.3           3.3            4.7           1.6\n",
      "141            6.9           3.1            5.1           2.3\n",
      "44             5.1           3.8            1.9           0.4\n",
      "29             4.7           3.2            1.6           0.2\n",
      "120            6.9           3.2            5.7           2.3\n",
      "94             5.6           2.7            4.2           1.3\n",
      "5              5.4           3.9            1.7           0.4\n",
      "102            7.1           3.0            5.9           2.1\n",
      "51             6.4           3.2            4.5           1.5\n",
      "78             6.0           2.9            4.5           1.5\n",
      "Reconstructed Datapoints :\n",
      "[[5.1969085  2.4164302  3.100595   0.705788  ]\n",
      " [4.9814897  2.4375176  3.256578   0.98232067]\n",
      " [6.673817   3.32461    4.5177336  1.3900243 ]\n",
      " [4.730823   2.2123818  2.848366   0.6921884 ]\n",
      " [8.109718   4.173214   5.8143697  1.971053  ]\n",
      " [6.271427   3.1927996  4.4047346  1.4869864 ]\n",
      " [6.6356688  3.302821   4.4850717  1.3764412 ]\n",
      " [4.671033   2.2792478  3.0357692  0.9184743 ]\n",
      " [4.4488     2.1462238  2.831107   0.8244159 ]\n",
      " [6.8240876  3.477903   4.805739   1.608872  ]\n",
      " [5.7373295  2.9148583  4.0114956  1.3632766 ]\n",
      " [4.874624   2.334035   3.0648289  0.8402454 ]\n",
      " [7.278023   3.713378   5.1381845  1.7121756 ]\n",
      " [6.390544   3.2192972  4.40861    1.4275953 ]\n",
      " [6.068693   3.077475   4.232266   1.4159533 ]]\n"
     ]
    }
   ],
   "source": [
    "from keras.layers import Input, Dense\n",
    "from keras.models import Model\n",
    "from keras.callbacks import TensorBoard\n",
    "\n",
    "# this is the size of our encoded representations\n",
    "encoding_dim = 2\n",
    "input_dim = 4\n",
    "\n",
    "# this is our input placeholder\n",
    "input_img = Input(shape=(input_dim,))\n",
    "# \"encoded\" is the encoded representation of the input\n",
    "encoded = Dense(encoding_dim)(input_img)\n",
    "# \"decoded\" is the lossy reconstruction of the input\n",
    "decoded = Dense(input_dim)(encoded)\n",
    "\n",
    "# this model maps an input to its reconstruction\n",
    "autoencoder = Model(input_img, decoded)\n",
    "\n",
    "# this model maps an input to its encoded representation\n",
    "encoder = Model(input_img, encoded)\n",
    "\n",
    "# create a placeholder for an encoded (2-dimensional) input\n",
    "encoded_input = Input(shape=(encoding_dim,))\n",
    "# retrieve the last layer of the autoencoder model\n",
    "decoder_layer = autoencoder.layers[-1]\n",
    "# create the decoder model\n",
    "decoder = Model(encoded_input, decoder_layer(encoded_input))\n",
    "\n",
    "autoencoder.compile(loss='mean_squared_error', optimizer='sgd')\n",
    "\n",
    "autoencoder.fit(x_train, x_train,\n",
    "                epochs=50,\n",
    "                batch_size=135,\n",
    "                shuffle=True,\n",
    "                validation_data=(x_test, x_test),\n",
    "               callbacks=[TensorBoard(log_dir='/tmp/autoencoder')])\n",
    "\n",
    "# encode and decode some data points\n",
    "# note that we take them from the *test* set\n",
    "encoded_datapoints = encoder.predict(x_test)\n",
    "decoded_datapoints = decoder.predict(encoded_datapoints)\n",
    "\n",
    "print('Original Datapoints :')\n",
    "print(x_test)\n",
    "print('Reconstructed Datapoints :')\n",
    "print(decoded_datapoints)"
   ]
  },
  {
   "cell_type": "markdown",
   "metadata": {
    "_uuid": "fc7de62fc50a1225f87142beb03561fb47b1436a"
   },
   "source": [
    "## Plotting Encoded Features"
   ]
  },
  {
   "cell_type": "code",
   "execution_count": 5,
   "metadata": {
    "_uuid": "7398436f682db4ea45f63effb3b4a481d22cd588"
   },
   "outputs": [
    {
     "data": {
      "image/png": "[encoded data removed]",
      "text/plain": [
       "<Figure size 432x288 with 1 Axes>"
      ]
     },
     "metadata": {
      "needs_background": "light"
     },
     "output_type": "display_data"
    }
   ],
   "source": [
    "encoded_dataset = encoder.predict(data[['SepalLengthCm', 'SepalWidthCm','PetalLengthCm', 'PetalWidthCm']])\n",
    "\n",
    "plt.scatter(encoded_dataset[:,0], encoded_dataset[:,1], c=data['Species'].astype('category').cat.codes)\n",
    "plt.show()"
   ]
  }
 ],
 "metadata": {
  "kernelspec": {
   "display_name": "Python 3 (ipykernel)",
   "language": "python",
   "name": "python3"
  },
  "language_info": {
   "codemirror_mode": {
    "name": "ipython",
    "version": 3
   },
   "file_extension": ".py",
   "mimetype": "text/x-python",
   "name": "python",
   "nbconvert_exporter": "python",
   "pygments_lexer": "ipython3",
   "version": "3.7.11"
  },
  "toc": {
   "base_numbering": 1,
   "nav_menu": {},
   "number_sections": true,
   "sideBar": true,
   "skip_h1_title": false,
   "title_cell": "Table of Contents",
   "title_sidebar": "Contents",
   "toc_cell": false,
   "toc_position": {},
   "toc_section_display": true,
   "toc_window_display": false
  },
  "varInspector": {
   "cols": {
    "lenName": 16,
    "lenType": 16,
    "lenVar": 40
   },
   "kernels_config": {
    "python": {
     "delete_cmd_postfix": "",
     "delete_cmd_prefix": "del ",
     "library": "var_list.py",
     "varRefreshCmd": "print(var_dic_list())"
    },
    "r": {
     "delete_cmd_postfix": ") ",
     "delete_cmd_prefix": "rm(",
     "library": "var_list.r",
     "varRefreshCmd": "cat(var_dic_list()) "
    }
   },
   "types_to_exclude": [
    "module",
    "function",
    "builtin_function_or_method",
    "instance",
    "_Feature"
   ],
   "window_display": false
  }
 },
 "nbformat": 4,
 "nbformat_minor": 4
}
